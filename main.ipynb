{
 "cells": [
  {
   "cell_type": "code",
   "execution_count": 1,
   "id": "ddeaaebe",
   "metadata": {},
   "outputs": [],
   "source": [
    "import threeplayers as ppp\n",
    "import twoplayers as pp\n",
    "\n",
    "import numpy as np\n",
    "import matplotlib.pyplot as plt\n",
    "from numba import njit\n",
    "from numba import jit\n",
    "import numba as nb\n",
    "from IPython.display import clear_output\n",
    "import matplotlib.ticker as ticker\n",
    "from matplotlib.ticker import FormatStrFormatter"
   ]
  },
  {
   "cell_type": "code",
   "execution_count": 2,
   "id": "aa81ff39",
   "metadata": {},
   "outputs": [],
   "source": [
    "alpha, delta = 0.3, 0.95  # values from Klein(2021)\n",
    "T = 500000\n",
    "N = 100\n",
    "#prices = np.linspace(0, 1, 7)\n",
    "num_calcs = int(T/12500-1)\n",
    "summed_avg_profitabilities = np.zeros(num_calcs)\n",
    "\n",
    "for n in range(0, N):\n",
    "    p_table, avg_profs1, avg_profs2, avg_profs3 = bertrand_simulation(alpha, delta, T)\n",
    "    per_firm_profit = np.sum([avg_profs1, avg_profs2, avg_profs3], axis=0)/3\n",
    "    summed_avg_profitabilities = np.sum([summed_avg_profitabilities, per_firm_profit], axis=0)\n",
    "    \n",
    "avg_avg_profitabilities = np.divide(summed_avg_profitabilities, N)\n",
    "avg_complicities = np.divide(avg_avg_profitabilities, 0.125) # complicities over time\n",
    "\n",
    "fig, axs = plt.subplots(1)\n",
    "fig.suptitle(\"Average per-firm profitability in 100 different simulations (500000 runs each)\")\n",
    "fig.set_figheight(6)\n",
    "fig.set_figwidth(8)\n",
    "axs.set_xlabel(\"No. prices in price grid\")\n",
    "axs.set_ylabel(\"Joint profitability\")\n",
    "axs.set_ylim(0.0, 0.09)\n",
    "xs = np.linspace(0, T, num_calcs)\n",
    "axs.plot(xs, avg_avg_profitabilities, color=\"grey\", label = \"average (over N) profitabilities\", marker='o')\n",
    "axs.plot(xs, [0.08333]*len(xs), color='orange', label='joint-profit maximizing', linestyle='dashed')\n",
    "axs.plot(xs, [0.040]*len(xs), color='red', label='competitive benchmark', linestyle='dashed')\n",
    "#axs.xaxis.set_major_locator(ticker.MultipleLocator(1))\n",
    "axs.yaxis.set_major_formatter(FormatStrFormatter('%.3f'))\n",
    "fig.tight_layout()\n",
    "plt.legend()\n",
    "plt.show()"
   ]
  }
 ],
 "metadata": {
  "kernelspec": {
   "display_name": "Python 3 (ipykernel)",
   "language": "python",
   "name": "python3"
  },
  "language_info": {
   "codemirror_mode": {
    "name": "ipython",
    "version": 3
   },
   "file_extension": ".py",
   "mimetype": "text/x-python",
   "name": "python",
   "nbconvert_exporter": "python",
   "pygments_lexer": "ipython3",
   "version": "3.9.13"
  }
 },
 "nbformat": 4,
 "nbformat_minor": 5
}
