{
 "cells": [
  {
   "cell_type": "markdown",
   "id": "7b507caa",
   "metadata": {},
   "source": [
    "# Learning about Q-learning"
   ]
  },
  {
   "cell_type": "markdown",
   "id": "fa928efb",
   "metadata": {},
   "source": [
    "Opskriver profitfunktion som i Klein (2021)"
   ]
  },
  {
   "cell_type": "code",
   "execution_count": 1,
   "id": "67082922",
   "metadata": {},
   "outputs": [],
   "source": [
    "import numpy as np\n",
    "from scipy.optimize import minimize\n",
    "import matplotlib.pyplot as plt\n",
    "from numba import njit\n",
    "\n"
   ]
  },
  {
   "cell_type": "code",
   "execution_count": 2,
   "id": "9e4d0a8c",
   "metadata": {},
   "outputs": [
    {
     "data": {
      "text/plain": [
       "'\\ndef demand(p1t, p2t, i):\\n    if i == 0:\\n        if (p1t < p2t):\\n            return 1 - p1t\\n        elif (p1t == p2t):\\n            return 0.5 * (1 - p1t)\\n        elif (p1t > p2t):\\n            return 0\\n    if i == 1:\\n        if (p2t < p1t):\\n            return 1 - p2t\\n        elif (p2t == p1t):\\n            return 0.5 * (1 - p2t)\\n        elif (p2t > p1t):\\n            return 0\\n'"
      ]
     },
     "execution_count": 2,
     "metadata": {},
     "output_type": "execute_result"
    }
   ],
   "source": [
    "\"\"\"\n",
    "def demand(p1t, p2t, i):\n",
    "    if i == 0:\n",
    "        if (p1t < p2t):\n",
    "            return 1 - p1t\n",
    "        elif (p1t == p2t):\n",
    "            return 0.5 * (1 - p1t)\n",
    "        elif (p1t > p2t):\n",
    "            return 0\n",
    "    if i == 1:\n",
    "        if (p2t < p1t):\n",
    "            return 1 - p2t\n",
    "        elif (p2t == p1t):\n",
    "            return 0.5 * (1 - p2t)\n",
    "        elif (p2t > p1t):\n",
    "            return 0\n",
    "\"\"\""
   ]
  },
  {
   "cell_type": "code",
   "execution_count": 3,
   "id": "78ed4616",
   "metadata": {},
   "outputs": [],
   "source": [
    "@njit\n",
    "def demand(p1t, p2t):\n",
    "    if (p1t < p2t):\n",
    "        return 1 - p1t\n",
    "    elif (p1t == p2t):\n",
    "        return 0.5 * (1 - p1t)\n",
    "    elif (p1t > p2t):\n",
    "        return 0"
   ]
  },
  {
   "cell_type": "code",
   "execution_count": 4,
   "id": "c0ef714a",
   "metadata": {},
   "outputs": [],
   "source": [
    "@njit\n",
    "def profit(p1t, p2t):\n",
    "    return p1t * demand(p1t, p2t)"
   ]
  },
  {
   "cell_type": "code",
   "execution_count": 5,
   "id": "98ad616f",
   "metadata": {},
   "outputs": [],
   "source": [
    "@njit\n",
    "def Q(p_it_idx, s_t_idx, i, t, alpha, delta, p_table, Q_table, prices, s_next) -> float: # p_table contains p and s (opponent price)\n",
    "    if i == 0:\n",
    "        j = 1\n",
    "    else:\n",
    "        j = 0\n",
    "    prev_est = Q_table[p_it_idx, s_t_idx]\n",
    "    #s_t_next_idx = np.where(prices == p_table[j, t+1])[0][0] # index for next state (s_{t+1})\n",
    "    # maxed_Q = max(Q_table[:, s_t_next_idx])\n",
    "    s_next_index=np.where(prices == s_next)[0][0] \n",
    "    maxed_Q = max(Q_table[:, s_next_index])\n",
    "    #print(maxed_Q)\n",
    "    #print(\"firm \", i, \"sets price :\", p_table[i, t])\n",
    "    #print(\"firm \", j, \"sets price :\", p_table[j, t])\n",
    "    #print(\"profit (i, t)=\" ,(i,t), \": \", profit(p_table[i, t], p_table[j, t]))\n",
    "    #new_est = profit(p_table[i, t], p_table[j, t]) + delta * profit(p_table[i, t], p_table[j, t+1]) + delta**2 * maxed_Q\n",
    "    new_est = profit(p_table[i, t], p_table[j, t]) + delta * profit(p_table[i, t], s_next) + delta**2 * maxed_Q\n",
    "    return (1 - alpha) * prev_est + alpha * new_est"
   ]
  },
  {
   "cell_type": "code",
   "execution_count": 6,
   "id": "0f833215",
   "metadata": {},
   "outputs": [],
   "source": [
    "@njit\n",
    "def set_price2(i, t, p_table, Q_table, prices, epsilon):\n",
    "    if epsilon >= np.random.uniform(0,1):\n",
    "        return np.random.choice(prices)\n",
    "    else:\n",
    "        if i == 0:\n",
    "            j = 1\n",
    "        else:\n",
    "            j = 0\n",
    "        s_t_idx = np.where(prices == p_table[j, t-1])[0][0] # our state (opponent's price)\n",
    "        maxedQ_idx = np.argmax(Q_table[:, s_t_idx])\n",
    "        #print(\"s_t_idx \", np.where(prices == p_table[j, t-1])[0][0])\n",
    "        #print(\"opponentprice: \", p_table[j, t-1])\n",
    "        #print(\"maxedQ_idx: \", maxedQ_idx, \"i = \", i, \"Q-value: \", Q_table[maxedQ_idx, s_t_idx])\n",
    "        #print(\"Q_table \", i, \"t = \", t, \": \\n\", Q_table)\n",
    "        print(\"\\nRow in Qtable in question\\n\",Q_table[:, s_t_idx])\n",
    "        return prices[maxedQ_idx]"
   ]
  },
  {
   "cell_type": "code",
   "execution_count": 7,
   "id": "376b3224",
   "metadata": {},
   "outputs": [],
   "source": [
    "@njit\n",
    "def set_price(i, t, p_table, Q_table, prices, epsilon):\n",
    "    if epsilon >= np.random.uniform(0,1):\n",
    "        return np.random.choice(prices)\n",
    "    else:\n",
    "        if i == 0:\n",
    "            j = 1\n",
    "        else:\n",
    "            j = 0\n",
    "        s_t_idx = np.where(prices == p_table[j, t-1])[0][0] # our state (opponent's price)\n",
    "        maxedQ_idx = np.argmax(Q_table[:, s_t_idx])\n",
    "        #print(\"s_t_idx \", np.where(prices == p_table[j, t-1])[0][0])\n",
    "        #print(\"opponentprice: \", p_table[j, t-1])\n",
    "        #print(\"maxedQ_idx: \", maxedQ_idx, \"i = \", i, \"Q-value: \", Q_table[maxedQ_idx, s_t_idx])\n",
    "        #print(\"Q_table \", i, \"t = \", t, \": \\n\", Q_table)\n",
    "        return prices[maxedQ_idx]"
   ]
  },
  {
   "cell_type": "code",
   "execution_count": 8,
   "id": "5316f8eb",
   "metadata": {},
   "outputs": [],
   "source": [
    "@njit\n",
    "def curr_prof(p_table, profits, i, t):\n",
    "    if i == 0:\n",
    "        j = 1\n",
    "    else:\n",
    "        j = 0\n",
    "    profits[i, t] = profit(p_table[i,t], p_table[j,t])\n",
    "    return \n",
    "# i=0\n",
    "# t=0\n",
    "# profits = np.zeros((2,1))\n",
    "# p_table = np.zeros((2,1))\n",
    "# p_table[0,0]=1/3\n",
    "# p_table[1,0]=1/3\n",
    "# curr_prof(p_table, profits, i, t)\n",
    "# print(profits)"
   ]
  },
  {
   "cell_type": "code",
   "execution_count": 9,
   "id": "7c4823fd",
   "metadata": {
    "scrolled": false
   },
   "outputs": [],
   "source": [
    "@njit\n",
    "def bertrand_simulation(alpha, delta, T):\n",
    "\n",
    "    # array of possible prices firms can choose (in this case k=6)\n",
    "    prices = np.linspace(0, 1, 7)\n",
    "    \n",
    "    i = 0\n",
    "    j = 1\n",
    "    \n",
    "    t = 0\n",
    "    # calculate the decay parameter theta\n",
    "    theta = -(1/1000000)**(1/T) + 1\n",
    "    epsilon = (1 - theta)**t\n",
    "\n",
    "    p = len(prices)\n",
    "    Q_table1 = np.zeros((p, p)) # |P| x |S| matrix\n",
    "    Q_table2 = np.zeros((p, p)) \n",
    "\n",
    "    p_table = np.zeros((2,T))\n",
    "    profits = np.zeros((2,T))\n",
    "    profitabilities1 = []\n",
    "    profitabilities2 = []\n",
    "\n",
    "    p_table[i, t] = np.random.choice(prices) # firm 1 sets price\n",
    "    t += 1\n",
    "    p_table[j, t] = np.random.choice(prices) # firm 2 sets price\n",
    "    p_table[i, t] = p_table[i, t-1]\n",
    "    t += 1 # now t = 2\n",
    "\n",
    "    while t < T:\n",
    "\n",
    "        if i == 0: # update firm 0\n",
    "            # exploration module\n",
    "            p_it_idx = np.where(prices == p_table[i, t-2])[0][0]\n",
    "            s_t_idx =  np.where(prices == p_table[j, t-2])[0][0]\n",
    "            s_next = set_price(j, t, p_table, Q_table2, prices, epsilon)\n",
    "            Q_table1[p_it_idx, s_t_idx] = Q(p_it_idx, s_t_idx, i, t-2, alpha, delta, p_table, Q_table1, prices, s_next)\n",
    "            \n",
    "            \n",
    "            # action module\n",
    "            p_table[i, t] = set_price(i, t, p_table, Q_table1, prices, epsilon)\n",
    "            p_table[j, t] = p_table[j, t-1]\n",
    "\n",
    "\n",
    "\n",
    "            # write profits for firm 0\n",
    "            curr_prof(p_table, profits, 0, t)\n",
    "            curr_prof(p_table, profits, 1, t)\n",
    "\n",
    "            #compute avg profitability of last 1000 runs\n",
    "            if t % 50000 == 0:\n",
    "                profitability = np.sum(profits[i, (t-1000):t])/1000\n",
    "                profitabilities1.append(profitability)\n",
    "        else: # update firm 1\n",
    "            # exploration module\n",
    "            p_it_idx = np.where(prices == p_table[i, t-2])[0][0]\n",
    "            s_t_idx =  np.where(prices == p_table[j, t-2])[0][0]\n",
    "            s_next = set_price(j, t, p_table, Q_table1, prices, epsilon)\n",
    "            Q_table2[p_it_idx, s_t_idx] = Q(p_it_idx, s_t_idx, i, t-2, alpha, delta, p_table, Q_table2, prices, s_next)\n",
    "\n",
    "            # action module\n",
    "            p_table[i, t] = set_price(i, t, p_table, Q_table2, prices, epsilon)\n",
    "            p_table[j, t] = p_table[j, t-1]\n",
    "\n",
    "            # write profits for firm 1\n",
    "            curr_prof(p_table, profits, 0, t)\n",
    "            curr_prof(p_table, profits, 1, t)\n",
    "            if t % 50000 == 1:    \n",
    "                profitability = np.sum(profits[i, (t-1000):t])/1000\n",
    "                profitabilities2.append(profitability)\n",
    "\n",
    "        # calculate new epsilon using decay parameter\n",
    "        epsilon = (1 - theta)**t\n",
    "\n",
    "        tmp = i\n",
    "        i = j\n",
    "        j = tmp\n",
    "        t += 1\n",
    "    return p_table, profitabilities1, profitabilities2"
   ]
  },
  {
   "cell_type": "code",
   "execution_count": 10,
   "id": "cec24843",
   "metadata": {},
   "outputs": [],
   "source": [
    "###### UNCOMMENT FOR COMPLICITY\n",
    "# set parameters\n",
    "# optionally use a fixed seed\n",
    "\n",
    "# alpha, delta = 0.3, 0.95  # values from Klein(2021)\n",
    "# T = 500000\n",
    "# N = 100\n",
    "# jointprofitability=[]\n",
    "# complicity=[]\n",
    "# for n in range(0, N):\n",
    "#     p_table, profitabilities1, profitabilities2 = bertrand_simulation(alpha, delta, T)\n",
    "#     jointprofitability.append((profitabilities1[-1]+profitabilities2[-1])/2)\n",
    "#     complicity.append(((profitabilities1[-1]+profitabilities2[-1])/2)/0.125)\n",
    "    \n",
    "# print(complicity)\n",
    "# plt.hist(complicity, bins=[i/10 for i in range(5,11)],rwidth=0.8)\n",
    "# plt.xlabel('Delta')\n",
    "# plt.ylabel('Frequency')\n",
    "# plt.title('Distribution of Delta 100 runs 2 firms')\n",
    "# plt.show()\n"
   ]
  },
  {
   "cell_type": "code",
   "execution_count": 15,
   "id": "10311aa2",
   "metadata": {},
   "outputs": [
    {
     "data": {
      "image/png": "[encoded data removed]",
      "text/plain": [
       "<Figure size 432x288 with 1 Axes>"
      ]
     },
     "metadata": {
      "needs_background": "light"
     },
     "output_type": "display_data"
    },
    {
     "data": {
      "image/png": "[encoded data removed]",
      "text/plain": [
       "<Figure size 1152x648 with 1 Axes>"
      ]
     },
     "metadata": {
      "needs_background": "light"
     },
     "output_type": "display_data"
    }
   ],
   "source": [
    "##### UNCOMMENT TO MAKE PRICE PLOT\n",
    "# set parameters\n",
    "# optionally use a fixed seed\n",
    "\n",
    "alpha, delta = 0.3, 0.95  # values from Klein(2021)\n",
    "T = 500000\n",
    "N = 1\n",
    "\n",
    "joint_profitability = np.zeros(int(T/50000 - 1))\n",
    "\n",
    "for n in range(0, N):\n",
    "    p_table, profitabilities1, profitabilities2 = bertrand_simulation(alpha, delta, T)\n",
    "    \n",
    "    summed_profitabilities = np.sum([profitabilities1, profitabilities2], axis=0)\n",
    "    joint_profitability = np.sum([joint_profitability, summed_profitabilities/2], axis=0)\n",
    "    \n",
    "    if n == N-1:\n",
    "        plt.plot(range(0,T), p_table[0,:], color='blue', label = 'prices firm 0')\n",
    "        plt.plot(range(0,T), p_table[1,:], color='red', label = 'prices firm 1')\n",
    "        plt.legend()\n",
    "    \n",
    "\n",
    "\n",
    "joint_profitability = joint_profitability/N\n",
    "\n",
    "fig, axs = plt.subplots(1)\n",
    "fig.suptitle(\"Average joint profitability in 100 different runs (500000 runs each)\")\n",
    "fig.set_figheight(9)\n",
    "fig.set_figwidth(16)\n",
    "axs.plot(range(len(joint_profitability)), joint_profitability, color=\"purple\", label = \"joint profitability\")\n",
    "\n",
    "fig.tight_layout()\n",
    "plt.legend()\n",
    "plt.show()"
   ]
  },
  {
   "cell_type": "code",
   "execution_count": 12,
   "id": "b5659f17",
   "metadata": {
    "scrolled": true
   },
   "outputs": [],
   "source": [
    "#plt.plot(range(0,T), p_table[0,:], color='blue', label = 'prices firm 0')\n",
    "#plt.plot(range(0,T), p_table[1,:], color='red', label = 'prices firm 1')\n",
    "#plt.legend()"
   ]
  },
  {
   "cell_type": "code",
   "execution_count": 13,
   "id": "c2cb6bab",
   "metadata": {},
   "outputs": [],
   "source": [
    "#profitabilities1 = [prof[1] for i, prof in enumerate(profitabilities) if prof[0] == 0]\n",
    "#profitabilities2 = [prof[1] for i, prof in enumerate(profitabilities) if prof[0] == 1]"
   ]
  },
  {
   "cell_type": "code",
   "execution_count": 14,
   "id": "5bbe75ab",
   "metadata": {},
   "outputs": [],
   "source": [
    "#plt.plot(range(len(profitabilities1)), profitabilities1, color='blue', label='profitability firm 0')\n",
    "#plt.plot(range(len(profitabilities2)), profitabilities2, color='red', label = 'profitability firm 1')\n",
    "#plt.legend()"
   ]
  },
  {
   "cell_type": "code",
   "execution_count": null,
   "id": "ece0e394",
   "metadata": {},
   "outputs": [],
   "source": []
  }
 ],
 "metadata": {
  "kernelspec": {
   "display_name": "Python 3",
   "language": "python",
   "name": "python3"
  },
  "language_info": {
   "codemirror_mode": {
    "name": "ipython",
    "version": 3
   },
   "file_extension": ".py",
   "mimetype": "text/x-python",
   "name": "python",
   "nbconvert_exporter": "python",
   "pygments_lexer": "ipython3",
   "version": "3.9.13"
  },
  "vscode": {
   "interpreter": {
    "hash": "e13f1118504511a59e8087bd41bdf92d27b9b8849a3b9f9e7386f6e1351613f5"
   }
  }
 },
 "nbformat": 4,
 "nbformat_minor": 5
}
