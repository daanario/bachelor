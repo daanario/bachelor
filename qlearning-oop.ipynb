{
 "cells": [
  {
   "cell_type": "code",
   "execution_count": 19,
   "id": "2d6df25e",
   "metadata": {},
   "outputs": [],
   "source": [
    "from numba import njit\n",
    "import numpy as np\n",
    "import sys"
   ]
  },
  {
   "cell_type": "code",
   "execution_count": null,
   "id": "5f7c359a",
   "metadata": {},
   "outputs": [],
   "source": [
    "# Numba-based indexing function from StackOverflow\n",
    "# https://stackoverflow.com/a/41578614\n",
    "\n",
    "@njit\n",
    "def index(array, item):\n",
    "    for idx, val in np.ndenumerate(array):\n",
    "        if val == item:\n",
    "            return idx\n",
    "    # If no item was found return None, other return types might be a problem due to\n",
    "    # numbas type inference."
   ]
  },
  {
   "cell_type": "code",
   "execution_count": 20,
   "id": "0b5fec00",
   "metadata": {},
   "outputs": [],
   "source": [
    "class Player2D:\n",
    "    def __init__(self):\n",
    "        return\n",
    "    def BR(self):\n",
    "        return\n",
    "    def demand(p1, p2):\n",
    "        if (p1 < p2):\n",
    "            return 1 - p1\n",
    "        elif (p1 == p2):\n",
    "            return 0.5 * (1 - p1)\n",
    "        elif (p1 > p2):\n",
    "            return 0\n",
    "    def profit(p1, p2):\n",
    "        return p1 * demand(p1, p2)\n",
    "        "
   ]
  },
  {
   "cell_type": "code",
   "execution_count": 41,
   "id": "621815ed",
   "metadata": {},
   "outputs": [],
   "source": [
    "class Qlearner2D(Player):\n",
    "    # ONLY WORKS IN 2 DIMENSIONS FOR NOW\n",
    "    def __init__(self, k, T):\n",
    "        \"\"\"\n",
    "        docstring comes later lol\n",
    "        \"\"\"\n",
    "        \n",
    "        self.Q_table = np.zeros([k] * 2)\n",
    "        \n",
    "        self.prices = np.linspace(0, 1, k, endpoint=True)\n",
    "        \n",
    "        self.ps = np.empty(T)\n",
    "        self.ps.fill(np.nan)\n",
    "        \n",
    "        self.alpha = 0.3\n",
    "        self.delta = 0.95\n",
    "        self.t = 0\n",
    "        self.theta = -(1/1000000)**(1/T) + 1\n",
    "        self.epsilon = (1 - theta)**t\n",
    "    \n",
    "    def update(self, s, s_next):\n",
    "        \"\"\"\n",
    "        Part of the exploration module.\n",
    "        Updates the Q-table for this Q-learner (1 time period)\n",
    "\n",
    "            Parameters:\n",
    "                    s (float): Our state (opponent price) for t\n",
    "                    s_next (float): Our state (opponent price) for t+1\n",
    "\n",
    "            Returns:\n",
    "                    Nothing, but updates Q-table with a new Q-value.\n",
    "        \"\"\"\n",
    "        p = self.ps[self.t]\n",
    "        prev_est = self.Q_table[index(prices, p), index(prices, s)]\n",
    "        maxed_Q = max(self.Q_table[:, index(prices, s_next)])\n",
    "        new_est = profit(p, s) + delta * profit(p, s_next) + delta**2 * maxed_Q\n",
    "        self.Q_table[index(prices, p), index(prices, s)] = (1 - self.alpha) * prev_est + alpha * new_est\n",
    "        return\n",
    "        \n",
    "    def set_price(self, s):\n",
    "        \"\"\"\n",
    "        Part of the action module.\n",
    "        Sets the price randomly with probability epsilon or sets the price that maximizes the Q-value\n",
    "        given the state (opponent price) with probability (1 - epsilon).\n",
    "        \n",
    "            Parameters: \n",
    "                s (float): Our state (opponent price) for t\n",
    "            Returns:\n",
    "                Best response price from array of possible prices\n",
    "        \"\"\"\n",
    "        if self.epsilon >= np.random.uniform(0,1):\n",
    "            return np.random.choice(self.prices)\n",
    "        else: \n",
    "            maxedQ_idx = np.argmax(Q_table[:, index(self.prices, s)])\n",
    "            return self.prices[maxedQ_idx]\n",
    "        "
   ]
  },
  {
   "cell_type": "code",
   "execution_count": 42,
   "id": "d89026db",
   "metadata": {},
   "outputs": [
    {
     "name": "stdout",
     "output_type": "stream",
     "text": [
      "\n",
      "        Updates the Q-table for this Q-learner (1 time period)\n",
      "\n",
      "            Parameters:\n",
      "                    s (float): Opponent state for t\n",
      "                    s_next (float): Opponent state for t+1\n",
      "\n",
      "            Returns:\n",
      "                    Nothing, but updates Q-table with a new Q-value.\n",
      "        \n"
     ]
    }
   ],
   "source": [
    "qlearner = Qlearner2D(6, 100)\n",
    "print(qlearner.update.__doc__)"
   ]
  },
  {
   "cell_type": "code",
   "execution_count": null,
   "id": "ba063278",
   "metadata": {},
   "outputs": [],
   "source": [
    "class Undercutter(Player):\n",
    "    def __init__(self):\n",
    "        return"
   ]
  },
  {
   "cell_type": "code",
   "execution_count": 43,
   "id": "f1e43bf8",
   "metadata": {},
   "outputs": [],
   "source": [
    "class Game:\n",
    "    def __init__(self, k, T, N):\n",
    "        self.k = k\n",
    "        self.T = T\n",
    "        self.N = N\n",
    "    def simulate():\n",
    "        # TODO: figure out difference in t between Q-learner and Game classes\n",
    "        \n",
    "        \n",
    "        qlearner1 = Qlearner2D(k, T)\n",
    "        qlearner2 = Qlearner2D(k, T)\n",
    "        \n",
    "        \n",
    "        players = [qlearner1, qlearner2]\n",
    "        \n",
    "        i = 0\n",
    "        j = 1\n",
    "\n",
    "        t = 0\n",
    "        # calculate the decay parameter theta\n",
    "        #theta = -(1/1000000)**(1/T) + 1\n",
    "        #epsilon = (1 - theta)**t\n",
    "\n",
    "        p = len(prices)\n",
    "        Q_table1 = np.zeros((p, p)) # |P| x |S| matrix\n",
    "        Q_table2 = np.zeros((p, p)) \n",
    "\n",
    "        p_table = np.zeros((2,T))\n",
    "        profits = np.zeros((2,T))\n",
    "        profitabilities1 = []\n",
    "        profitabilities2 = []\n",
    "\n",
    "        p_table[i, t] = np.random.choice(prices) # firm 1 sets price\n",
    "        t += 1\n",
    "        p_table[j, t] = np.random.choice(prices) # firm 2 sets price\n",
    "        p_table[i, t] = p_table[i, t-1]\n",
    "        t += 1 # now t = 2\n",
    "\n",
    "        while t < T:\n",
    "\n",
    "            if i == 0: # update firm 0\n",
    "                # exploration module\n",
    "                p_it_idx = np.where(prices == p_table[i, t-2])[0][0]\n",
    "                #print(\"p_it_idx: \", p_it_idx)\n",
    "                s_t_idx =  np.where(prices == p_table[j, t-2])[0][0]\n",
    "                Q_table1[p_it_idx, s_t_idx] = Q(p_it_idx, s_t_idx, i, t-2, alpha, delta, p_table, Q_table1, prices)\n",
    "\n",
    "                # action module\n",
    "                p_table[i, t] = set_price(i, t, p_table, Q_table1, prices, epsilon)\n",
    "                p_table[j, t] = p_table[j, t-1]\n",
    "\n",
    "                # write profits for firm 0 and 1\n",
    "                curr_prof(p_table, profits, 0, t)\n",
    "                curr_prof(p_table, profits, 1, t)\n",
    "\n",
    "                #compute avg profitability of last 1000 runs\n",
    "                if t % 50000 == 0:\n",
    "                    profitability = np.sum(profits[i, (t-1000):t])/1000\n",
    "                    #print(\"profitability firm 0\", profitability)\n",
    "                    profitabilities1.append(profitability)\n",
    "\n",
    "            # calculate new epsilon using decay parameter\n",
    "            players[i].epsilon = (1 - theta)**t\n",
    "\n",
    "            tmp = i\n",
    "            i = j\n",
    "            j = tmp\n",
    "            t += 1\n",
    "        return p_table, profitabilities1, profitabilities2\n"
   ]
  },
  {
   "cell_type": "code",
   "execution_count": null,
   "id": "8c1894d4",
   "metadata": {},
   "outputs": [],
   "source": [
    "# create game and simulate\n",
    "\n",
    "game = Game(6, 500000, 10)\n",
    "game.simulate()"
   ]
  },
  {
   "cell_type": "code",
   "execution_count": 29,
   "id": "633afe84",
   "metadata": {},
   "outputs": [
    {
     "data": {
      "text/plain": [
       "array([[[0., 0., 0.],\n",
       "        [0., 0., 0.],\n",
       "        [0., 0., 0.]],\n",
       "\n",
       "       [[0., 1., 0.],\n",
       "        [0., 0., 0.],\n",
       "        [0., 0., 0.]],\n",
       "\n",
       "       [[0., 0., 0.],\n",
       "        [0., 0., 0.],\n",
       "        [0., 0., 0.]]])"
      ]
     },
     "execution_count": 29,
     "metadata": {},
     "output_type": "execute_result"
    }
   ],
   "source": [
    "ls = np.zeros((3,3,3))\n",
    "ls\n",
    "\n",
    "ls[1, 0, 1] = 1\n",
    "ls"
   ]
  },
  {
   "cell_type": "code",
   "execution_count": null,
   "id": "cf82f292",
   "metadata": {},
   "outputs": [],
   "source": []
  },
  {
   "cell_type": "code",
   "execution_count": null,
   "id": "a7c46271",
   "metadata": {},
   "outputs": [],
   "source": [
    "ls[for ]"
   ]
  },
  {
   "cell_type": "code",
   "execution_count": null,
   "id": "78921bac",
   "metadata": {},
   "outputs": [],
   "source": []
  }
 ],
 "metadata": {
  "kernelspec": {
   "display_name": "Python 3 (ipykernel)",
   "language": "python",
   "name": "python3"
  },
  "language_info": {
   "codemirror_mode": {
    "name": "ipython",
    "version": 3
   },
   "file_extension": ".py",
   "mimetype": "text/x-python",
   "name": "python",
   "nbconvert_exporter": "python",
   "pygments_lexer": "ipython3",
   "version": "3.9.13"
  }
 },
 "nbformat": 4,
 "nbformat_minor": 5
}
