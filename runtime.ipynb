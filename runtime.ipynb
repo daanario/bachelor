{
 "cells": [
  {
   "cell_type": "code",
   "execution_count": 1,
   "metadata": {},
   "outputs": [],
   "source": [
    "# Import all games with and without numba\n",
    "import threeplayers as ppp\n",
    "import threeplayers_nonjit as nppp\n",
    "import twoplayers as pp\n",
    "import twoplayer_nonjit as npp"
   ]
  },
  {
   "cell_type": "code",
   "execution_count": 2,
   "metadata": {},
   "outputs": [],
   "source": [
    "# Import nescesatry modules\n",
    "import numpy as np\n",
    "import time\n"
   ]
  },
  {
   "cell_type": "code",
   "execution_count": 3,
   "metadata": {},
   "outputs": [],
   "source": [
    "# Define function that runs the game N times.\n",
    "def run_time(N, prices, alpha, delta, T, version): \n",
    "    for _ in range(N):\n",
    "        version.bertrand_simulation(alpha, delta, T, prices)\n"
   ]
  },
  {
   "cell_type": "code",
   "execution_count": 4,
   "metadata": {},
   "outputs": [],
   "source": [
    "# Define the needed parameters for game\n",
    "alpha, delta = 0.3, 0.95  # values from Klein(2021)\n",
    "T = 500000\n",
    "N = 100\n",
    "prices = np.linspace(0, 1, 49)"
   ]
  },
  {
   "attachments": {},
   "cell_type": "markdown",
   "metadata": {},
   "source": [
    "### Run time 3 players - With Numba"
   ]
  },
  {
   "cell_type": "code",
   "execution_count": 5,
   "metadata": {},
   "outputs": [
    {
     "name": "stdout",
     "output_type": "stream",
     "text": [
      "Elapsed after 100 runs(with compilation) = 164.7018847s\n",
      "Elapsed after 100 runs(with compilation) = 146.16993769999996s\n"
     ]
    }
   ],
   "source": [
    "# Timing runtime with compilation\n",
    "start = time.perf_counter()\n",
    "run_time(N, prices, alpha, delta, T, ppp)\n",
    "end = time.perf_counter()\n",
    "print(\"Elapsed after {} runs(with compilation) = {}s\".format(N,(end - start)))\n",
    "\n",
    "# Timin runtime after comilation\n",
    "start = time.perf_counter()\n",
    "run_time(N, prices, alpha, delta, T, ppp)\n",
    "end = time.perf_counter()\n",
    "print(\"Elapsed after {} runs(with compilation) = {}s\".format(N,(end - start)))"
   ]
  },
  {
   "attachments": {},
   "cell_type": "markdown",
   "metadata": {},
   "source": [
    "### Runtime 3 players - without Numba\n"
   ]
  },
  {
   "cell_type": "code",
   "execution_count": 6,
   "metadata": {},
   "outputs": [
    {
     "name": "stdout",
     "output_type": "stream",
     "text": [
      "Elapsed after 100 runs = 2840.6817158999997s\n"
     ]
    }
   ],
   "source": [
    "# Timing runtime\n",
    "start = time.perf_counter()\n",
    "run_time(N, prices, alpha, delta, T, nppp)\n",
    "end = time.perf_counter()\n",
    "print(\"Elapsed after {} runs = {}s\".format(N,(end - start)))"
   ]
  },
  {
   "cell_type": "code",
   "execution_count": 7,
   "metadata": {},
   "outputs": [],
   "source": [
    "# Define the needed parameters for game - 2 players\n",
    "alpha, delta = 0.3, 0.95  # values from Klein(2021)\n",
    "T = 500000\n",
    "N = 1000\n",
    "prices = np.linspace(0, 1, 49)"
   ]
  },
  {
   "attachments": {},
   "cell_type": "markdown",
   "metadata": {},
   "source": [
    "### Runtime 2 players - with Numba "
   ]
  },
  {
   "cell_type": "code",
   "execution_count": 8,
   "metadata": {},
   "outputs": [
    {
     "name": "stdout",
     "output_type": "stream",
     "text": [
      "Elapsed after 1000 runs(with compilation) = 712.3005478s\n",
      "Elapsed after 1000 runs(after compilation) = 707.1470791000002s\n"
     ]
    }
   ],
   "source": [
    "# Timing runtime with compilation\n",
    "\n",
    "start = time.perf_counter()\n",
    "run_time(N, prices, alpha, delta, T, pp)\n",
    "end = time.perf_counter()\n",
    "print(\"Elapsed after {} runs(with compilation) = {}s\".format(N,(end - start)))\n",
    "\n",
    "# Timin runtime after comilation\n",
    "start = time.perf_counter()\n",
    "run_time(N, prices, alpha, delta, T, pp)\n",
    "end = time.perf_counter()\n",
    "print(\"Elapsed after {} runs(after compilation) = {}s\".format(N, (end - start)))"
   ]
  },
  {
   "attachments": {},
   "cell_type": "markdown",
   "metadata": {},
   "source": [
    "Runtime 2 players - without Numba"
   ]
  },
  {
   "cell_type": "code",
   "execution_count": 9,
   "metadata": {},
   "outputs": [
    {
     "name": "stdout",
     "output_type": "stream",
     "text": [
      "Elapsed after 1000 runs = 16829.4388711s\n"
     ]
    }
   ],
   "source": [
    "start = time.perf_counter()\n",
    "run_time(N, prices, alpha, delta, T, npp)\n",
    "end = time.perf_counter()\n",
    "print(\"Elapsed after {} runs = {}s\".format(N,(end - start)))\n"
   ]
  }
 ],
 "metadata": {
  "kernelspec": {
   "display_name": "Python 3",
   "language": "python",
   "name": "python3"
  },
  "language_info": {
   "codemirror_mode": {
    "name": "ipython",
    "version": 3
   },
   "file_extension": ".py",
   "mimetype": "text/x-python",
   "name": "python",
   "nbconvert_exporter": "python",
   "pygments_lexer": "ipython3",
   "version": "3.9.13"
  },
  "orig_nbformat": 4
 },
 "nbformat": 4,
 "nbformat_minor": 2
}
