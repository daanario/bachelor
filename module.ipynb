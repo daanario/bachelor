{
 "cells": [
  {
   "attachments": {},
   "cell_type": "markdown",
   "metadata": {},
   "source": [
    "### Modules for Bertrand competetion"
   ]
  },
  {
   "cell_type": "code",
   "execution_count": 57,
   "metadata": {},
   "outputs": [],
   "source": [
    "from numba import njit\n",
    "from typing import List\n",
    "import numpy as np\n",
    "from itertools import combinations\n",
    "from numba import njit\n",
    "from typing import List"
   ]
  },
  {
   "cell_type": "code",
   "execution_count": 11,
   "metadata": {},
   "outputs": [],
   "source": [
    "# Demand funktion for n-spillere. \n",
    "@njit\n",
    "def demand(prices: List[float]) -> float:\n",
    "    num_prices = len(prices)\n",
    "    num_lower = 0\n",
    "    num_equal = 0\n",
    "    \n",
    "    for price in prices[1:]:\n",
    "        if prices[0] > price:\n",
    "            num_lower += 1\n",
    "        elif prices[0] == price:\n",
    "            num_equal += 1\n",
    "    \n",
    "    # Check om nogen priser er lavere end firma 0. \n",
    "    if num_lower == num_prices - 1 and num_equal == 0:\n",
    "        return 0.0\n",
    "    # Hvis ikke, check hcor mange firmaer er lig firma 0.\n",
    "    elif num_equal > 0:\n",
    "        return 1.0 / (num_equal+1) * (1-prices[0])\n",
    "    # Ellers for firma 0 hele markedet. \n",
    "    else:\n",
    "        return 1.0 - prices[0]"
   ]
  },
  {
   "cell_type": "code",
   "execution_count": 12,
   "metadata": {},
   "outputs": [],
   "source": [
    "# Profit funktion for n-spillere. \n",
    "@njit\n",
    "def profit(prices: List[float]) -> List[float]:\n",
    "    return prices[0] * demand(prices)"
   ]
  },
  {
   "cell_type": "code",
   "execution_count": 58,
   "metadata": {},
   "outputs": [
    {
     "name": "stdout",
     "output_type": "stream",
     "text": [
      "Demand: 0.16666666666666666\n",
      "Profit: 0.08333333333333333\n"
     ]
    },
    {
     "name": "stderr",
     "output_type": "stream",
     "text": [
      "C:\\Users\\sofus\\AppData\\Local\\Temp\\ipykernel_6880\\2782928107.py:8: NumbaPendingDeprecationWarning: \u001b[1m\u001b[1m\n",
      "Encountered the use of a type that is scheduled for deprecation: type 'reflected list' found for argument 'prices' of function 'demand'.\n",
      "\n",
      "For more information visit https://numba.readthedocs.io/en/stable/reference/deprecation.html#deprecation-of-reflection-for-list-and-set-types\n",
      "\u001b[1m\n",
      "File \"..\\..\\..\\..\\AppData\\Local\\Temp\\ipykernel_6880\\2782928107.py\", line 11:\u001b[0m\n",
      "\u001b[1m<source missing, REPL/exec in use?>\u001b[0m\n",
      "\u001b[0m\u001b[0m\n",
      "  return prices[0] * demand(prices)\n",
      "C:\\Users\\sofus\\AppData\\Local\\Packages\\PythonSoftwareFoundation.Python.3.9_qbz5n2kfra8p0\\LocalCache\\local-packages\\Python39\\site-packages\\numba\\core\\ir_utils.py:2147: NumbaPendingDeprecationWarning: \u001b[1m\n",
      "Encountered the use of a type that is scheduled for deprecation: type 'reflected list' found for argument 'prices' of function 'profit'.\n",
      "\n",
      "For more information visit https://numba.readthedocs.io/en/stable/reference/deprecation.html#deprecation-of-reflection-for-list-and-set-types\n",
      "\u001b[1m\n",
      "File \"..\\..\\..\\..\\AppData\\Local\\Temp\\ipykernel_6880\\2782928107.py\", line 6:\u001b[0m\n",
      "\u001b[1m<source missing, REPL/exec in use?>\u001b[0m\n",
      "\u001b[0m\n",
      "  warnings.warn(NumbaPendingDeprecationWarning(msg, loc=loc))\n"
     ]
    }
   ],
   "source": [
    "# Test\n",
    "# prices = [0.5, 0.5, 0.5]\n",
    "\n",
    "# profit = profit(prices)\n",
    "# demand = demand(prices)\n",
    "\n",
    "# print(\"Demand:\", demand)\n",
    "# print(\"Profit:\", profit)\n"
   ]
  },
  {
   "cell_type": "code",
   "execution_count": 14,
   "metadata": {},
   "outputs": [],
   "source": [
    "# Definer set_price funktionen\n",
    "# Ikke sikker på at dette virker. \n",
    "def set_price(i, t, p_table, Q_table, prices, epsilon):\n",
    "    if epsilon >= np.random.uniform(0, 1):\n",
    "        return np.random.choice(prices)\n",
    "    else:\n",
    "        num_players = len(prices)\n",
    "        num_states = len(p_table)\n",
    "\n",
    "        # Find the indices of the opponents' prices\n",
    "        opponent_prices = [p_table[(i + j) % num_players, t-1] for j in range(1, num_players)]\n",
    "        opponent_indices = [np.where(prices == price)[0][0] for price in opponent_prices]\n",
    "\n",
    "        # Find the indices of the current state and other opponent's state\n",
    "        state_indices = [np.where(prices == p_table[k, t-1])[0][0] for k in range(num_states) if k != i]\n",
    "\n",
    "        maxedQ_idx = np.argmax(Q_table[state_indices[1], state_indices[0], :])\n",
    "        return prices[maxedQ_idx]\n"
   ]
  },
  {
   "cell_type": "code",
   "execution_count": 15,
   "metadata": {},
   "outputs": [],
   "source": [
    "# Definer curr_profit funktionen\n",
    "# Ikke sikker på dette virker. \n",
    "@njit\n",
    "def curr_prof(p_table, profits, i, t):\n",
    "    num_players = p_table.shape[0]\n",
    "    # more dimensions can be added\n",
    "    j = (i + 1) % num_players\n",
    "    k = (i + 2) % num_players\n",
    "    # add to profit by adding p_table[x, t]\n",
    "    profits[i, t] = profit(p_table[i, t], p_table[j, t], p_table[k, t])\n",
    "    return\n"
   ]
  },
  {
   "attachments": {},
   "cell_type": "markdown",
   "metadata": {},
   "source": [
    "### Competetive benchmark"
   ]
  },
  {
   "cell_type": "code",
   "execution_count": 56,
   "metadata": {},
   "outputs": [
    {
     "name": "stdout",
     "output_type": "stream",
     "text": [
      "Competetive benchmark 2 players: 0.061111111111111116\n",
      "Competetive benchmark 3 players: 0.0462962962962963\n"
     ]
    }
   ],
   "source": [
    "# Find unikke kombinationer. \n",
    "def find_unique_combinations(lst, n):\n",
    "    unique_combinations = set()\n",
    "    for combination in combinations(lst, n):\n",
    "        unique_combinations.add(tuple(sorted(combination)))\n",
    "    return unique_combinations\n",
    "\n",
    "# Setup prisgrids for n-spillere. \n",
    "two_player = np.linspace(0, 4/6, 5) #[0, 1/6, 2/6, 3/6, 4/6]\n",
    "three_player = np.linspace(0, 5/6, 6) #[0, 1/6, 2/6, 3/6, 4/6, 5/6]\n",
    "unique_representations_two = find_unique_combinations(two_player, 2)\n",
    "unique_representations_three = find_unique_combinations(three_player, 2)\n",
    "\n",
    "# Beregn profitter og gem i en liste.  \n",
    "unique_profits = set()\n",
    "for combination in unique_representations_two:\n",
    "    unique_profits.add(profit(combination))\n",
    "# Beregn totale profit\n",
    "total_profit = sum(unique_profits)\n",
    "# Regn gennemsnitlig pris pr. periode pr. firma\n",
    "avg_profit_two = total_profit/2/len(two_player)\n",
    "\n",
    "# Beregn profitter og gem i en liste.  \n",
    "unique_profits = set()\n",
    "for combination in unique_representations_three:\n",
    "    unique_profits.add(profit(combination))\n",
    "# Beregn totale profit\n",
    "total_profit = sum(unique_profits)\n",
    "# Regn gennemsnitlig pris pr. periode pr. firma\n",
    "avg_profit_three = total_profit/3/len(three_player)\n",
    "\n",
    "#Print\n",
    "print('Competetive benchmark 2 players:', avg_profit_two)\n",
    "print('Competetive benchmark 3 players:', avg_profit_three)"
   ]
  }
 ],
 "metadata": {
  "kernelspec": {
   "display_name": "Python 3",
   "language": "python",
   "name": "python3"
  },
  "language_info": {
   "codemirror_mode": {
    "name": "ipython",
    "version": 3
   },
   "file_extension": ".py",
   "mimetype": "text/x-python",
   "name": "python",
   "nbconvert_exporter": "python",
   "pygments_lexer": "ipython3",
   "version": "3.9.13"
  },
  "orig_nbformat": 4
 },
 "nbformat": 4,
 "nbformat_minor": 2
}
