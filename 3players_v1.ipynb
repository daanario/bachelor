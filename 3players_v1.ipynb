{
 "cells": [
  {
   "cell_type": "code",
   "execution_count": 1,
   "metadata": {},
   "outputs": [],
   "source": [
    "import numpy as np\n",
    "from scipy.optimize import minimize\n",
    "import matplotlib.pyplot as plt\n",
    "from numba import njit\n",
    "\n"
   ]
  },
  {
   "cell_type": "code",
   "execution_count": 2,
   "metadata": {},
   "outputs": [],
   "source": [
    "@njit\n",
    "def demand(p1t, p2t, p3t):\n",
    "    if (p1t < p2t) and (p1t<p3t):\n",
    "        return 1 - p1t\n",
    "    elif (p1t == p2t == p3t):\n",
    "        return 1/3 * (1 - p1t)\n",
    "    elif (p1t > p2t) or (p1t > p3t):\n",
    "        return 0\n",
    "    elif ((p1t < p2t) and (p1t == p3t)) or ((p1t == p2t) and (p1t < p3t)):\n",
    "        return 1/2 * (1 - p1t)\n",
    "    \n",
    "@njit\n",
    "def profit(p1t, p2t, p3t):\n",
    "    return p1t * demand(p1t, p2t, p3t)\n",
    "    \n"
   ]
  },
  {
   "cell_type": "code",
   "execution_count": 3,
   "metadata": {},
   "outputs": [],
   "source": [
    "@njit\n",
    "def set_price(i, t, p_table, Q_table, prices, epsilon):\n",
    "    \n",
    "    if epsilon >= np.random.uniform(0,1):\n",
    "        \n",
    "        return np.random.choice(prices)\n",
    "    else:\n",
    "        if i == 0:\n",
    "            j = 1\n",
    "            k = 2\n",
    "        if i == 1:\n",
    "            j = 2\n",
    "            k = 0\n",
    "        if i == 2:\n",
    "            j = 0\n",
    "            k = 1\n",
    "        s_t_idx = np.where(prices == p_table[j, t-1])[0][0] # our state (opponent's price)\n",
    "        r_t_idx = np.where(prices == p_table[k, t-1])[0][0] # our other state (other opponent's price)\n",
    "        \n",
    "        maxedQ_idx = np.argmax(Q_table[r_t_idx, s_t_idx, :])\n",
    "        return prices[maxedQ_idx]\n"
   ]
  },
  {
   "cell_type": "code",
   "execution_count": 4,
   "metadata": {},
   "outputs": [],
   "source": [
    "#This set_price function is extended with the extra parameter r_next which it needs in order to pull the correct price\n",
    "@njit\n",
    "def set_price_ext(i, t, p_table, Q_table, prices, epsilon, r_next):\n",
    "    \n",
    "    if epsilon >= np.random.uniform(0,1):\n",
    "        \n",
    "        return np.random.choice(prices)\n",
    "    else:\n",
    "        if i == 0:\n",
    "            j = 1\n",
    "            k = 2\n",
    "        if i == 1:\n",
    "            j = 2\n",
    "            k = 0\n",
    "        if i == 2:\n",
    "            j = 0\n",
    "            k = 1\n",
    "        s_t_idx = np.where(prices == p_table[j, t-1])[0][0] # our state (opponent's price)\n",
    "        r_t_idx = np.where(prices == r_next)[0][0]\n",
    "        \n",
    "        maxedQ_idx = np.argmax(Q_table[r_t_idx, s_t_idx, :])\n",
    "        return prices[maxedQ_idx]"
   ]
  },
  {
   "cell_type": "code",
   "execution_count": 5,
   "metadata": {},
   "outputs": [],
   "source": [
    "@njit\n",
    "def Q(p_it_idx, s_t_idx, r_t_idx, i, t, alpha, delta, p_table, Q_table, prices, s_next, r_next) -> float: # p_table contains p and s (opponent price)\n",
    "    if i == 0:\n",
    "        j = 1\n",
    "        k = 2\n",
    "    if i == 1:\n",
    "        j = 2\n",
    "        k = 0\n",
    "    if i == 2:\n",
    "        j = 0\n",
    "        k = 1\n",
    "\n",
    "    prev_est = Q_table[r_t_idx, s_t_idx, p_it_idx]\n",
    "    \n",
    "    #s_next er s_{t+2} mens r_next er r_{t+1} som er blevet trukket fra set_price og set_price_ext. Disse skal bruges i new_est som estimater for hvilke priser firmaerne sætter i de næste perioder. \n",
    "    s_next_index = np.where(prices == s_next)[0][0] \n",
    "    r_next_index = np.where(prices == r_next)[0][0]\n",
    "    #Den maksimale Q-værdi om til tidspunkt t+2 givet priserne som vi forventer virksomhederne sætter i denne periode. \n",
    "    maxed_Q = max(Q_table[r_next_index, s_next_index, :])\n",
    "    \n",
    "    \n",
    "    \n",
    "    new_est = profit(p_table[i, t], p_table[j, t], p_table[k, t]) + (delta * profit(p_table[i, t], s_next, p_table[k, t+1])+ delta**2 * profit(p_table[i, t], s_next, r_next))  + delta**3 * maxed_Q\n",
    "\n",
    "    \n",
    "    return (1 - alpha) * prev_est + alpha * new_est"
   ]
  },
  {
   "cell_type": "code",
   "execution_count": 6,
   "metadata": {},
   "outputs": [],
   "source": [
    "@njit\n",
    "def curr_prof(p_table, profits, i, t):\n",
    "    if i == 0:\n",
    "        j = 1\n",
    "        k = 2\n",
    "    if i == 1:\n",
    "        j = 2\n",
    "        k = 0\n",
    "    if i == 2:\n",
    "        j = 0\n",
    "        k = 1\n",
    "    profits[i, t] = profit(p_table[i,t], p_table[j,t], p_table[k,t])\n",
    "    return"
   ]
  },
  {
   "cell_type": "code",
   "execution_count": 7,
   "metadata": {},
   "outputs": [],
   "source": [
    "\n",
    "@njit\n",
    "def bertrand_simulation(alpha, delta, T):\n",
    "\n",
    "    # array of possible prices firms can choose (in this case k=6)\n",
    "    prices = np.linspace(0, 1, 8)\n",
    "    prices[1]=0.05\n",
    "    i = 0\n",
    "    j = 1\n",
    "    k = 2\n",
    "    t = 0\n",
    "    # calculate the decay parameter theta\n",
    "    theta = -(1/1000000)**(1/T) + 1\n",
    "    epsilon = (1 - theta)**t\n",
    "\n",
    "    p = len(prices)\n",
    "    Q_table1 = np.zeros((p, p, p)) # |P| x |S| matrix\n",
    "    Q_table2 = np.zeros((p, p, p)) \n",
    "    Q_table3 = np.zeros((p, p, p)) \n",
    "    p_table = np.empty((3, T))\n",
    "    p_table.fill(np.nan)\n",
    "    profits = np.zeros((3, T))\n",
    "\n",
    "    profitabilities0 = []\n",
    "    profitabilities1 = []\n",
    "    profitabilities2 = []\n",
    "    \n",
    "    p_table[i, :3] = np.random.choice(prices) # firm 0 sets price for periods t=0:2\n",
    "    p_table[j, :3] = np.random.choice(prices) # firm 1 sets price for periods t=0:2\n",
    "    p_table[k, :3] = np.random.choice(prices) # firm 2 sets price for periods t=0:2\n",
    "    \n",
    "    t = 3 # 3 periods have passed, so t = 3\n",
    "    while t < T:\n",
    "\n",
    "        if i == 0: # update firm 0\n",
    "            # learning module\n",
    "            p_it_idx = np.where(prices == p_table[i, t-3])[0][0]\n",
    "            s_t_idx =  np.where(prices == p_table[j, t-3])[0][0]\n",
    "            r_t_idx =  np.where(prices == p_table[k, t-3])[0][0]\n",
    "            r_next = set_price(k, t, p_table, Q_table3, prices, epsilon)\n",
    "            s_next = set_price_ext(j, t, p_table, Q_table2, prices, epsilon, r_next)\n",
    "            Q_table1[r_t_idx, s_t_idx,p_it_idx] = Q(p_it_idx, s_t_idx,r_t_idx, i, t-3, alpha, delta, p_table, Q_table1, prices, r_next, s_next)\n",
    "\n",
    "            # action module\n",
    "            p_table[i, t] = set_price(i, t, p_table, Q_table1, prices, epsilon)\n",
    "            p_table[j, t] = p_table[j, t-1]\n",
    "            p_table[k, t] = p_table[k, t-1]\n",
    "            \n",
    "\n",
    "        if i ==1: # update firm 1\n",
    "            # learning module\n",
    "            p_it_idx = np.where(prices == p_table[i, t-3])[0][0]\n",
    "            s_t_idx =  np.where(prices == p_table[j, t-3])[0][0]\n",
    "            r_t_idx =  np.where(prices == p_table[k, t-3])[0][0]\n",
    "            \n",
    "            r_next = set_price(k, t, p_table, Q_table1, prices, epsilon)\n",
    "            s_next = set_price_ext(j, t, p_table, Q_table3, prices, epsilon, r_next)\n",
    "            Q_table2[r_t_idx, s_t_idx,p_it_idx] = Q(p_it_idx, s_t_idx,r_t_idx, i, t-3, alpha, delta, p_table, Q_table2, prices, r_next, s_next)\n",
    "\n",
    "            # action module\n",
    "            p_table[i, t] = set_price(i, t, p_table, Q_table2, prices, epsilon)\n",
    "            p_table[j, t] = p_table[j, t-1]\n",
    "            p_table[k, t] = p_table[k, t-1]\n",
    "\n",
    "\n",
    "        if i ==2: # update firm 2\n",
    "            # learning module\n",
    "            p_it_idx = np.where(prices == p_table[i, t-3])[0][0]\n",
    "            s_t_idx =  np.where(prices == p_table[j, t-3])[0][0]\n",
    "            r_t_idx =  np.where(prices == p_table[k, t-3])[0][0]\n",
    "            r_next = set_price(k, t, p_table, Q_table2, prices, epsilon)\n",
    "            s_next = set_price_ext(j, t, p_table, Q_table1, prices, epsilon, r_next)\n",
    "            Q_table3[r_t_idx, s_t_idx, p_it_idx] = Q(p_it_idx, s_t_idx,r_t_idx, i, t-3, alpha, delta, p_table, Q_table3, prices, r_next, s_next)\n",
    "            \n",
    "            # action module\n",
    "            p_table[i, t] = set_price(i, t, p_table, Q_table3, prices, epsilon)\n",
    "            p_table[j, t] = p_table[j, t-1]\n",
    "            p_table[k, t] = p_table[k, t-1]\n",
    "\n",
    "        \n",
    "        # write profits for firm 0, 1 and 2\n",
    "        curr_prof(p_table, profits, 0, t)\n",
    "        curr_prof(p_table, profits, 1, t)\n",
    "        curr_prof(p_table, profits, 2, t)\n",
    "        \n",
    "        if t % 50000 == 0:\n",
    "            # compute avg. of last 1000 profits for each firm\n",
    "            profitability0 = np.sum(profits[0, (t-1000):t])/1000 \n",
    "            profitability1 = np.sum(profits[1, (t-1000):t])/1000\n",
    "            profitability2 = np.sum(profits[2, (t-1000):t])/1000\n",
    "            \n",
    "            profitabilities0.append(profitability0)\n",
    "            profitabilities1.append(profitability1)\n",
    "            profitabilities2.append(profitability2)\n",
    "            \n",
    "        \n",
    "        # calculate new epsilon using decay parameter\n",
    "        epsilon = (1 - theta)**t\n",
    "        # Update variables\n",
    "        tmp = i\n",
    "        i = j\n",
    "        j = k\n",
    "        k = tmp\n",
    "        t += 1\n",
    "    return p_table, profitabilities0, profitabilities1, profitabilities2\n"
   ]
  },
  {
   "cell_type": "code",
   "execution_count": 8,
   "metadata": {},
   "outputs": [],
   "source": [
    "# ##### UNCOMMENT FOR COMPLICITY\n",
    "# # set parameters\n",
    "# # optionally use a fixed seed\n",
    "\n",
    "# alpha, delta = 0.3, 0.99  # values from Klein(2021)\n",
    "# # alpha = np.linspace(0.1,0.6,20)\n",
    "# # delta = np.linspace(0.6,0.99,20)\n",
    "# T = 500000\n",
    "# N = 1000\n",
    "# jointprofitability=[]\n",
    "# complicity=[]\n",
    "# for n in range(0, N):\n",
    "#     print(n)\n",
    "#     # alphachoice=np.random.choice(alpha)\n",
    "#     # deltachoice=np.random.choice(delta)\n",
    "#     p_table, profitabilities0, profitabilities1, profitabilities2 = bertrand_simulation(alpha, delta, T)\n",
    "\n",
    "#     complicity.append(((profitabilities0[-1]+profitabilities1[-1]+profitabilities2[-1])/3)/0.08333333333333333)\n",
    "#     # if (((profitabilities0[-1]+profitabilities1[-1]+profitabilities2[-1])/3)/0.08333333333333333)>0.6:\n",
    "#     #     print((((profitabilities0[-1]+profitabilities1[-1]+profitabilities2[-1])/3)/0.08333333333333333))\n",
    "#     #     print(alphachoice)\n",
    "#     #     print(deltachoice)\n",
    "# plt.hist(complicity, bins=[i/10 for i in range(0,11)],rwidth=0.8)\n",
    "# plt.xlabel('Delta')\n",
    "# plt.ylabel('Frequency')\n",
    "# plt.title('Distribution of Delta for 1000 runs 3 firms')\n",
    "# plt.show()\n"
   ]
  },
  {
   "cell_type": "code",
   "execution_count": null,
   "metadata": {},
   "outputs": [],
   "source": []
  },
  {
   "cell_type": "code",
   "execution_count": 9,
   "metadata": {
    "scrolled": false
   },
   "outputs": [
    {
     "name": "stderr",
     "output_type": "stream",
     "text": [
      "No handles with labels found to put in legend.\n"
     ]
    },
    {
     "name": "stdout",
     "output_type": "stream",
     "text": [
      "Prices 0.2857142857142857 0.2857142857142857 0.2857142857142857\n"
     ]
    },
    {
     "name": "stderr",
     "output_type": "stream",
     "text": [
      "C:\\Users\\Christian\\AppData\\Local\\Packages\\PythonSoftwareFoundation.Python.3.9_qbz5n2kfra8p0\\LocalCache\\local-packages\\Python39\\site-packages\\IPython\\core\\pylabtools.py:151: UserWarning: Creating legend with loc=\"best\" can be slow with large amounts of data.\n",
      "  fig.canvas.print_figure(bytes_io, **kw)\n"
     ]
    },
    {
     "data": {
      "image/png": "[encoded data removed]",
      "text/plain": [
       "<Figure size 432x288 with 2 Axes>"
      ]
     },
     "metadata": {
      "needs_background": "light"
     },
     "output_type": "display_data"
    }
   ],
   "source": [
    "#####UNCOMMENT FOR PRICEPLOT\n",
    "alpha, delta = 0.3, 0.95  # values from Klein(2021)\n",
    "T = 500000\n",
    "N = 1\n",
    "for n in range(0, N):\n",
    "    p_table, profitabilities0, profitabilities1, profitabilities2 = bertrand_simulation(alpha, delta, T)\n",
    "    \n",
    "    fig, ax = plt.subplots(2)\n",
    "    \n",
    "    ax[0].plot(range(0,T), p_table[0,:], color='blue', label = 'prices firm 0')\n",
    "    ax[0].plot(range(0,T), p_table[1,:], color='red', label = 'prices firm 1')\n",
    "    ax[0].plot(range(0,T), p_table[2,:], color='yellow', label = 'prices firm 2')\n",
    "    ax[0].legend()\n",
    "    print(\"Prices\",p_table[0,-1],p_table[1,-1],p_table[2,-1])\n",
    "    average_profitabilities = np.sum([profitabilities0, profitabilities1, profitabilities2], axis=0)/3\n",
    "    # print(\"average profitability:\\n\",average_profitabilities)\n",
    "    # ax[1].plot(np.linspace(0,T,19), average_profitabilities, color=\"purple\", label = \"avg. profitability\")\n",
    "    # ax[1].legend()\n",
    "    \n",
    "    \n",
    "\n",
    "    plt.legend()\n",
    "    plt.show()"
   ]
  },
  {
   "cell_type": "markdown",
   "metadata": {},
   "source": []
  }
 ],
 "metadata": {
  "kernelspec": {
   "display_name": "Python 3 (ipykernel)",
   "language": "python",
   "name": "python3"
  },
  "language_info": {
   "codemirror_mode": {
    "name": "ipython",
    "version": 3
   },
   "file_extension": ".py",
   "mimetype": "text/x-python",
   "name": "python",
   "nbconvert_exporter": "python",
   "pygments_lexer": "ipython3",
   "version": "3.9.13"
  },
  "vscode": {
   "interpreter": {
    "hash": "e13f1118504511a59e8087bd41bdf92d27b9b8849a3b9f9e7386f6e1351613f5"
   }
  }
 },
 "nbformat": 4,
 "nbformat_minor": 2
}
